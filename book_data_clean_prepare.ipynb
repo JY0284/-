{
 "cells": [
  {
   "cell_type": "markdown",
   "id": "918fe9b9-ddeb-4d85-97ba-2047d7a3c769",
   "metadata": {},
   "source": [
    "# 资治通鉴-文本数据预处理"
   ]
  },
  {
   "cell_type": "markdown",
   "id": "a933591a-2a89-49c2-a27c-23d955820485",
   "metadata": {},
   "source": [
    "### 目标：一本新形式的编年体史书"
   ]
  },
  {
   "cell_type": "markdown",
   "id": "2fbbb5a7-c4bb-4890-b935-b8eaba3a91a2",
   "metadata": {},
   "source": [
    "任务列表：\n",
    "- [x] 时间数据的译文格式保持和原文格式统一\n",
    "- [x] 去除不符合文白对照格式的空行、空格\n",
    "- [ ] 文本数据结构化，便于利用数据分析工具和可视化工具进行处理"
   ]
  },
  {
   "cell_type": "code",
   "execution_count": 1,
   "id": "408b32c4-b40e-4481-aaed-5b3274b4f9af",
   "metadata": {},
   "outputs": [],
   "source": [
    "import re\n",
    "import copy\n",
    "import glob\n",
    "import os\n",
    "\n",
    "from tqdm import tqdm"
   ]
  },
  {
   "cell_type": "code",
   "execution_count": 2,
   "id": "0170d360-c90a-4e73-8bbf-b44db9a40db8",
   "metadata": {},
   "outputs": [],
   "source": [
    "demo_f = open('chapters/001_资治通鉴第一卷(周纪).md', 'r', encoding='utf-8').read()"
   ]
  },
  {
   "cell_type": "code",
   "execution_count": 3,
   "id": "36ea1fb7-f733-4042-9874-b9feb8ceef29",
   "metadata": {},
   "outputs": [
    {
     "data": {
      "text/plain": [
       "'资治通鉴第一卷(周纪)\\n\\n\\n\\n周纪一 威烈王二十三年（戊寅、前403）\\n\\n周纪一 周威烈王二十三年（戊寅，公元前403年）\\n\\n\\u3000\\u3000[1]初命晋大夫魏斯、赵籍、韩虔为诸侯。\\n\\n\\u3000\\u3000[1]周威烈王姬午初次'"
      ]
     },
     "execution_count": 3,
     "metadata": {},
     "output_type": "execute_result"
    }
   ],
   "source": [
    "demo_f[:100]"
   ]
  },
  {
   "cell_type": "code",
   "execution_count": 4,
   "id": "cefd5ae3-6913-4ec7-806c-6dbe38249828",
   "metadata": {},
   "outputs": [],
   "source": [
    "DUP_SUBTITLE_PAT = re.compile(r'\\n([^\\u3000\\n]+)\\n\\n(.+\\n+)')"
   ]
  },
  {
   "cell_type": "code",
   "execution_count": 5,
   "id": "2f751cd9-2bd1-44e3-a114-0055629d1421",
   "metadata": {},
   "outputs": [
    {
     "data": {
      "text/plain": [
       "[('周纪一 威烈王二十三年（戊寅、前403）', '周纪一 周威烈王二十三年（戊寅，公元前403年）\\n\\n'),\n",
       " ('二十四年（己卯、前402）', '二十四年（己卯，公元前402年）\\n\\n'),\n",
       " ('安王元年（庚辰、前401）', '周安王元年（庚辰，公元前401年）\\n\\n'),\n",
       " ('二年（辛巳、前400）', '二年（辛巳，公元前400年）\\n\\n'),\n",
       " ('三年（壬午、前399）', '三年（壬午，公元前399年）\\n\\n'),\n",
       " ('四年（癸未、前398）', '四年（癸未，公元前398年）\\n\\n'),\n",
       " ('五年（甲申、前397）', '五年（甲申，公元前397年）\\n\\n'),\n",
       " ('六年（乙酉、前396）', '六年（乙酉，公元前396年）\\n\\n'),\n",
       " ('八年（丁亥、前394）', '八年（丁亥，公元前394年）\\n\\n'),\n",
       " ('九年（戊子、前393）', '九年（戊子，公元前393年）\\n\\n'),\n",
       " ('十一年（庚寅、前391）', '十一年（庚寅，公元前391年）\\n\\n'),\n",
       " ('十二年（辛卯、前390）', '十二年（辛卯，公元前390年）\\n\\n'),\n",
       " ('十三年（壬辰、前389）', '十三年（壬辰，公元前389年）\\n\\n'),\n",
       " ('十五年（甲午、前387）', '十五年（甲午，公元前387年）\\n\\n'),\n",
       " ('十六年（乙未、前386）', '十六年（乙未，公元前386年）\\n\\n'),\n",
       " ('十七年（丙申、前385）', '十七年（丙申，公元前385年）\\n\\n'),\n",
       " ('十九年（戊戌、前383）', '十九年（戊戌，公元前383年）\\n\\n'),\n",
       " ('二十年（己亥、前382）', '二十年（己亥，公元前382年）\\n\\n'),\n",
       " ('二十一年（庚子、前381）', '二十一年（庚子，公元前381年）\\n\\n'),\n",
       " ('二十二年（辛丑、前380）', '二十二年（辛丑，公元前380年）\\n\\n'),\n",
       " ('二十三年（壬寅、前379）', '二十三年（壬寅，公元前379年）\\n\\n'),\n",
       " ('二十四年（癸卯、前378）', '二十四年（癸卯，公元前378年）\\n\\n'),\n",
       " ('二十五年(甲辰、前377)', '二十五年（甲辰，公元前377年）\\n\\n'),\n",
       " ('二十六年（乙巳、前376）', '二十六年（乙巳，公元前376年）\\n\\n'),\n",
       " ('烈王元年（丙午、前375）', '周烈王元年（丙午，公元前375年）\\n\\n'),\n",
       " ('三年（戊申、前373）', '三年（戊申，公元前373年）\\n\\n'),\n",
       " ('四年（己酉、前372）', '四年（己酉，公元前372年）\\n\\n'),\n",
       " ('五年（庚戌、前371）', '五年（庚戌，公元前371年）\\n\\n'),\n",
       " ('六年（辛亥、前370）', '六年（辛亥，公元前370年）\\n\\n'),\n",
       " ('七年（壬子、前369）', '七年（壬子，公元前369年）\\n\\n')]"
      ]
     },
     "execution_count": 5,
     "metadata": {},
     "output_type": "execute_result"
    }
   ],
   "source": [
    "re.findall(DUP_SUBTITLE_PAT, demo_f)"
   ]
  },
  {
   "cell_type": "markdown",
   "id": "f0a55a69-1266-4bf6-8620-f746dd93087c",
   "metadata": {},
   "source": [
    "Looks like '*' is '\\n\\n\\u3000\\u3000'.\n",
    "\n",
    "So we replace it and check again:"
   ]
  },
  {
   "cell_type": "code",
   "execution_count": 6,
   "id": "cb1529e3-c26e-4e93-ad16-1771157bda8d",
   "metadata": {},
   "outputs": [
    {
     "data": {
      "text/plain": [
       "[('周纪一 威烈王二十三年（戊寅、前403）', '周纪一 周威烈王二十三年（戊寅，公元前403年）\\n\\n'),\n",
       " ('二十四年（己卯、前402）', '二十四年（己卯，公元前402年）\\n\\n'),\n",
       " ('安王元年（庚辰、前401）', '周安王元年（庚辰，公元前401年）\\n\\n'),\n",
       " ('二年（辛巳、前400）', '二年（辛巳，公元前400年）\\n\\n'),\n",
       " ('三年（壬午、前399）', '三年（壬午，公元前399年）\\n\\n'),\n",
       " ('四年（癸未、前398）', '四年（癸未，公元前398年）\\n\\n'),\n",
       " ('五年（甲申、前397）', '五年（甲申，公元前397年）\\n\\n'),\n",
       " ('六年（乙酉、前396）', '六年（乙酉，公元前396年）\\n\\n'),\n",
       " ('八年（丁亥、前394）', '八年（丁亥，公元前394年）\\n\\n'),\n",
       " ('九年（戊子、前393）', '九年（戊子，公元前393年）\\n\\n'),\n",
       " ('十一年（庚寅、前391）', '十一年（庚寅，公元前391年）\\n\\n'),\n",
       " ('十二年（辛卯、前390）', '十二年（辛卯，公元前390年）\\n\\n'),\n",
       " ('十三年（壬辰、前389）', '十三年（壬辰，公元前389年）\\n\\n'),\n",
       " ('十五年（甲午、前387）', '十五年（甲午，公元前387年）\\n\\n'),\n",
       " ('十六年（乙未、前386）', '十六年（乙未，公元前386年）\\n\\n'),\n",
       " ('十七年（丙申、前385）', '十七年（丙申，公元前385年）\\n\\n'),\n",
       " ('十九年（戊戌、前383）', '十九年（戊戌，公元前383年）\\n\\n'),\n",
       " ('二十年（己亥、前382）', '二十年（己亥，公元前382年）\\n\\n'),\n",
       " ('二十一年（庚子、前381）', '二十一年（庚子，公元前381年）\\n\\n'),\n",
       " ('二十二年（辛丑、前380）', '二十二年（辛丑，公元前380年）\\n\\n'),\n",
       " ('二十三年（壬寅、前379）', '二十三年（壬寅，公元前379年）\\n\\n'),\n",
       " ('二十四年（癸卯、前378）', '二十四年（癸卯，公元前378年）\\n\\n'),\n",
       " ('二十五年(甲辰、前377)', '二十五年（甲辰，公元前377年）\\n\\n'),\n",
       " ('二十六年（乙巳、前376）', '二十六年（乙巳，公元前376年）\\n\\n'),\n",
       " ('烈王元年（丙午、前375）', '周烈王元年（丙午，公元前375年）\\n\\n'),\n",
       " ('三年（戊申、前373）', '三年（戊申，公元前373年）\\n\\n'),\n",
       " ('四年（己酉、前372）', '四年（己酉，公元前372年）\\n\\n'),\n",
       " ('五年（庚戌、前371）', '五年（庚戌，公元前371年）\\n\\n'),\n",
       " ('六年（辛亥、前370）', '六年（辛亥，公元前370年）\\n\\n'),\n",
       " ('七年（壬子、前369）', '七年（壬子，公元前369年）\\n\\n')]"
      ]
     },
     "execution_count": 6,
     "metadata": {},
     "output_type": "execute_result"
    }
   ],
   "source": [
    "re.findall(DUP_SUBTITLE_PAT, demo_f.replace('*', '\\n\\n\\u3000\\u3000'))"
   ]
  },
  {
   "cell_type": "markdown",
   "id": "03085b5a-af78-488b-be5b-15e5bc66b037",
   "metadata": {},
   "source": [
    "All right."
   ]
  },
  {
   "cell_type": "code",
   "execution_count": 7,
   "id": "56415e9e-4438-4547-8850-3c4bee1930a3",
   "metadata": {},
   "outputs": [],
   "source": [
    "demo_f = demo_f.replace('*', '\\n\\n\\u3000\\u3000')"
   ]
  },
  {
   "cell_type": "markdown",
   "id": "8b79b874-5666-4267-acbe-917a511df549",
   "metadata": {},
   "source": [
    "让时间翻译对齐。"
   ]
  },
  {
   "cell_type": "code",
   "execution_count": 8,
   "id": "b5d8bdfb-802f-4b0c-85f0-5a23cf094bd5",
   "metadata": {},
   "outputs": [
    {
     "data": {
      "text/plain": [
       "[('周纪一 威烈王二十三年（戊寅、前403）', '周纪一 周威烈王二十三年（戊寅，公元前403年）\\n\\n'),\n",
       " ('二十四年（己卯、前402）', '二十四年（己卯，公元前402年）\\n\\n'),\n",
       " ('安王元年（庚辰、前401）', '周安王元年（庚辰，公元前401年）\\n\\n'),\n",
       " ('二年（辛巳、前400）', '二年（辛巳，公元前400年）\\n\\n'),\n",
       " ('三年（壬午、前399）', '三年（壬午，公元前399年）\\n\\n'),\n",
       " ('四年（癸未、前398）', '四年（癸未，公元前398年）\\n\\n'),\n",
       " ('五年（甲申、前397）', '五年（甲申，公元前397年）\\n\\n'),\n",
       " ('六年（乙酉、前396）', '六年（乙酉，公元前396年）\\n\\n'),\n",
       " ('八年（丁亥、前394）', '八年（丁亥，公元前394年）\\n\\n'),\n",
       " ('九年（戊子、前393）', '九年（戊子，公元前393年）\\n\\n'),\n",
       " ('十一年（庚寅、前391）', '十一年（庚寅，公元前391年）\\n\\n'),\n",
       " ('十二年（辛卯、前390）', '十二年（辛卯，公元前390年）\\n\\n'),\n",
       " ('十三年（壬辰、前389）', '十三年（壬辰，公元前389年）\\n\\n'),\n",
       " ('十五年（甲午、前387）', '十五年（甲午，公元前387年）\\n\\n'),\n",
       " ('十六年（乙未、前386）', '十六年（乙未，公元前386年）\\n\\n'),\n",
       " ('十七年（丙申、前385）', '十七年（丙申，公元前385年）\\n\\n'),\n",
       " ('十九年（戊戌、前383）', '十九年（戊戌，公元前383年）\\n\\n'),\n",
       " ('二十年（己亥、前382）', '二十年（己亥，公元前382年）\\n\\n'),\n",
       " ('二十一年（庚子、前381）', '二十一年（庚子，公元前381年）\\n\\n'),\n",
       " ('二十二年（辛丑、前380）', '二十二年（辛丑，公元前380年）\\n\\n'),\n",
       " ('二十三年（壬寅、前379）', '二十三年（壬寅，公元前379年）\\n\\n'),\n",
       " ('二十四年（癸卯、前378）', '二十四年（癸卯，公元前378年）\\n\\n'),\n",
       " ('二十五年(甲辰、前377)', '二十五年（甲辰，公元前377年）\\n\\n'),\n",
       " ('二十六年（乙巳、前376）', '二十六年（乙巳，公元前376年）\\n\\n'),\n",
       " ('烈王元年（丙午、前375）', '周烈王元年（丙午，公元前375年）\\n\\n'),\n",
       " ('三年（戊申、前373）', '三年（戊申，公元前373年）\\n\\n'),\n",
       " ('四年（己酉、前372）', '四年（己酉，公元前372年）\\n\\n'),\n",
       " ('五年（庚戌、前371）', '五年（庚戌，公元前371年）\\n\\n'),\n",
       " ('六年（辛亥、前370）', '六年（辛亥，公元前370年）\\n\\n'),\n",
       " ('七年（壬子、前369）', '七年（壬子，公元前369年）\\n\\n')]"
      ]
     },
     "execution_count": 8,
     "metadata": {},
     "output_type": "execute_result"
    }
   ],
   "source": [
    "new_f = copy.copy(demo_f)\n",
    "for g in re.findall(DUP_SUBTITLE_PAT, new_f):\n",
    "    new_f = new_f.replace(g[1], g[1].lstrip('\\u3000'))\n",
    "    # print(g[1].lstrip('\\u3000'))\n",
    "re.findall(DUP_SUBTITLE_PAT, new_f)"
   ]
  },
  {
   "cell_type": "markdown",
   "id": "02be7f62-ddb0-4d49-b6cd-9faed5dde67a",
   "metadata": {},
   "source": [
    "Looks nice.\n",
    "\n",
    "Let's handle extra '\\n' problem. **Except for the lines between title and text.**"
   ]
  },
  {
   "cell_type": "code",
   "execution_count": 9,
   "id": "4e66b840-abc7-4154-abef-1844b3c116db",
   "metadata": {},
   "outputs": [
    {
     "data": {
      "text/plain": [
       "['\\n\\n\\n\\n']"
      ]
     },
     "execution_count": 9,
     "metadata": {},
     "output_type": "execute_result"
    }
   ],
   "source": [
    "re.findall('\\n\\n *\\n+', new_f)"
   ]
  },
  {
   "cell_type": "code",
   "execution_count": 10,
   "id": "55a73e4c-cdbe-4191-9de1-a62532e99b50",
   "metadata": {},
   "outputs": [
    {
     "name": "stdout",
     "output_type": "stream",
     "text": [
      "Help on function sub in module re:\n",
      "\n",
      "sub(pattern, repl, string, count=0, flags=0)\n",
      "    Return the string obtained by replacing the leftmost\n",
      "    non-overlapping occurrences of the pattern in string by the\n",
      "    replacement repl.  repl can be either a string or a callable;\n",
      "    if a string, backslash escapes in it are processed.  If it is\n",
      "    a callable, it's passed the Match object and must return\n",
      "    a replacement string to be used.\n",
      "\n"
     ]
    }
   ],
   "source": [
    "help(re.sub)"
   ]
  },
  {
   "cell_type": "code",
   "execution_count": 11,
   "id": "a5a7913b-fedd-41da-8697-6fdd8597c86b",
   "metadata": {},
   "outputs": [
    {
     "name": "stdout",
     "output_type": "stream",
     "text": [
      "资治通鉴第一卷(周纪)\n",
      "\n",
      "\n",
      "\n",
      "周纪一 威烈王二十三年（戊寅、前403）\n",
      "\n",
      "周纪一 周威烈王二十三年（戊寅，公元前403年）\n",
      "\n",
      "　　[1]初命晋大夫魏斯、赵籍、韩虔为诸侯。\n",
      "\n",
      "　　[1]周威烈王姬午初次分封晋国大夫魏斯、赵籍、韩虔为诸侯国君。\n",
      "\n",
      "　　臣光曰：臣闻天子之职莫大于礼，礼莫大于分，分莫大于名。何谓礼？纪纲是也。何谓分？君、臣是也。何谓名？公、侯、卿、大夫是也。\n",
      "\n",
      "　　臣司马光曰：我知道天子的职责中最重要的是维护礼教，礼教中最重要的是区分地位，区分地位中最重要的是匡正名分。什么是礼教？就是法纪。什么是区分地位？就是君臣有别。什么是名分？就是公、侯、卿、大夫等官爵。\n",
      "\n",
      "　　夫以四海之广，兆民之众，受制于一人，虽有绝伦之力，高世之智，莫不奔走而服役者，岂非以礼为之纪纲哉！是故天子统三公，三公率诸侯，诸侯制卿大夫，卿大夫治士庶人。贵以临贱，贱以承贵。上之使下犹心腹之运手足，根本之制支叶，下之事上犹手足之卫心腹，支叶之庇本根，然后能上下相保而国家治安。故曰天子之职莫大于礼也。\n",
      "\n",
      "　　四海之广，亿民之众，都受制于天子一人。尽管是才能超群、智慧绝伦的人，也不能不在天子足下为他奔走服务，这难道\n"
     ]
    }
   ],
   "source": [
    "new_f = re.sub(re.compile(r'\\n\\n *\\n+'), '\\n\\n', new_f)\n",
    "new_f = new_f.replace('\\n\\n', '\\n\\n\\n\\n', 1).rstrip('\\n')\n",
    "print(new_f[:500])"
   ]
  },
  {
   "cell_type": "markdown",
   "id": "d972fefc-8e07-430c-9bf9-08e57b2c5eda",
   "metadata": {},
   "source": [
    "Nice! 换行也修复了。但是还有下面的问题：\n",
    ">　　夫礼，辨贵贱，序亲疏，裁群物，制庶事，非名不著，非器不形；名以命之，器以别之，然后上下粲然有伦，此礼之大经也。名器既亡，则礼安得独在哉！昔仲叔于奚有功于卫，辞邑而请繁缨，孔子以为不如多与之邑。惟名与器，不可以假人，君之所司也；政亡则国家从之。卫君待孔子而为政，孔子欲先正名，以为名不正则民无所措手足。夫繁缨，小物也，而孔子惜之；正名，细务也，而孔子先之：诚以名器既乱则上下无以相保故也。夫事未有不生于微而成于著，圣人之虑远，故能谨其微而治之，众人之识近，故必待其著而后救之；治其微则用力寡而功多，救其著则竭力而不能及也。《易》曰：“履霜坚冰至，”《书》曰：“一日二日万几，”谓此类也。故曰分莫大于名也。\n",
    ">\n",
    "> 　　所谓礼教，在于分辨贵贱，排比亲疏，裁决万物，处理日常事物。没有一定的名位，就不能显扬；没有器物，就不能表现。只有用名位来分别称呼，用器物来分别标志，然后上下才能井然有序。这就是礼教的根本所在。如果名位、器物都没有了，那么礼教又怎么能单独存在呢！当年仲叔于奚为卫国建立了大功，他谢绝了赏赐的封地，却请求允许他享用贵族才应有的马饰。孔子认为不如多赏赐他一些封地，惟独名位和器物，绝不能假与他人，这是君王的职权象征；处理政事不坚持原则，国家也就会随着走向危亡。卫国国君期待孔子为他崐处理政事，孔子却先要确立名位，认为名位不正则百姓无所是从。马饰，是一种小器物，而孔子却珍惜它的价值；正名位，是一件小事情，而孔子却要先从它做起，就是因为名位、器物一紊乱，国家上下就无法相安互保。没有一件事情不是从微小之处产生而逐渐发展显著的，圣贤考虑久远，所以能够谨慎对待微小的变故及时予以处理；常人见识短浅，所以必等弊端闹大才来设法挽救。矫正初起的小错，用力小而收效大；挽救已明显的大害，往往是竭尽了全力也\n",
    ">\n",
    ">　　不能成功。《易经》说：“行于霜上而知严寒冰冻将至。”《尚书》说：“先王每天都要兢兢业业地处理成千上万件事情。”就是指这类防微杜渐的例子。\n",
    ">\n",
    ">　　所以说，区分地位高下最重要的是匡正各个等级的名分。\n",
    "\n",
    "其中属于一段的内容被错误换行了，尝试使用每段中的句号数量判断和修复这种情况。"
   ]
  },
  {
   "cell_type": "code",
   "execution_count": 12,
   "id": "b1a1cf0f-bc42-40d1-95ae-551c1289e4c8",
   "metadata": {},
   "outputs": [],
   "source": [
    "# paras = new_f.split('\\n\\n')\n",
    "# i = 2\n",
    "# content = '\\n\\n'.join(paras[:i])\n",
    "\n",
    "# while i < len(paras):\n",
    "#     print(i)\n",
    "#     p_raw = paras[i]\n",
    "#     periods_cnt = p_raw.count('。')\n",
    "#     i += 1\n",
    "#     cnt = paras[i].count('。')\n",
    "#     p_trans = [paras[i]]\n",
    "#     while cnt < periods_cnt:\n",
    "#         input()\n",
    "#         print(p_raw)\n",
    "#         print(p_trans)\n",
    "#         i += 1\n",
    "#         p_trans.append(paras[i].strip('\\u3000'))\n",
    "#         print(p_trans)\n",
    "#         cnt = p_trans.count('。')\n",
    "#         if cnt > periods_cnt:\n",
    "#             raise RuntimeError()\n",
    "#     content = '\\n\\n'.join([p_raw, ''.join(p_trans)])\n",
    "#     i += 1"
   ]
  },
  {
   "cell_type": "markdown",
   "id": "fa1d1175-594b-4efb-b318-a4caf5a4a951",
   "metadata": {},
   "source": [
    "No way. '。' can't be the signal."
   ]
  },
  {
   "cell_type": "code",
   "execution_count": 13,
   "id": "fb599aa9-97b7-4e67-96ec-dafc0faaa0db",
   "metadata": {},
   "outputs": [],
   "source": [
    "def try_fix_bad_para(f_content, debug=False):\n",
    "    paras = f_content.split('\\n\\n')\n",
    "    if '卷' in paras[0]:\n",
    "        i = 2\n",
    "        content = paras[0] + '\\n' * 4\n",
    "    else:\n",
    "        i = 0\n",
    "        content = ''\n",
    "    new_paras = []\n",
    "\n",
    "    try:\n",
    "        while i < len(paras):\n",
    "            p = paras[i].strip(' ')\n",
    "            while p != '' and (len(re.findall('\\d', p)) == 0) and p[-1] not in ['。', '？', '！', '”']:\n",
    "                if debug:\n",
    "                    input(p)\n",
    "                i += 1\n",
    "                p = p + paras[i].strip('\\u3000')\n",
    "                if debug:\n",
    "                    print(p)\n",
    "            new_paras.append(p)\n",
    "            i += 1\n",
    "    except Exception as e:\n",
    "        return (i, paras)\n",
    "    \n",
    "    content += '\\n\\n'.join(new_paras)\n",
    "\n",
    "    return 0, content\n",
    "\n",
    "# try_fix_bad_para(new_f).split('\\n\\n')[:15]"
   ]
  },
  {
   "cell_type": "markdown",
   "id": "65f9f6ee-0f6c-4bae-afa0-46a82a29221d",
   "metadata": {},
   "source": [
    "Good! Edit all files!"
   ]
  },
  {
   "cell_type": "code",
   "execution_count": 14,
   "id": "c46ef1ce-c8bf-4908-8e41-de1cb14c5bd2",
   "metadata": {},
   "outputs": [],
   "source": [
    "!mkdir output"
   ]
  },
  {
   "cell_type": "code",
   "execution_count": 15,
   "id": "14fe05ef-45c4-4eb4-8ee2-5219763889da",
   "metadata": {},
   "outputs": [
    {
     "name": "stderr",
     "output_type": "stream",
     "text": [
      "chapters/293_资治通鉴第二百九十三卷(后周纪).md: 100%|███████████████████████████████████████████████████████████████████████████████████████████| 294/294 [00:00<00:00, 914.79it/s]]s]]]?, ?it/s]\n"
     ]
    }
   ],
   "source": [
    "files = glob.glob('chapters/*.md')\n",
    "pbar = tqdm(files, desc=\"Processing\")\n",
    "for f in pbar:\n",
    "    pbar.set_description(f)\n",
    "    content = open(f, 'r', encoding='utf-8').read()\n",
    "    content = content.replace('*', '\\n\\n\\u3000\\u3000')\n",
    "    for g in re.findall(DUP_SUBTITLE_PAT, content):\n",
    "        if '[1]' in g[1]:\n",
    "            continue\n",
    "        content = content.replace(g[1], g[1].lstrip('\\u3000'))\n",
    "    content = re.sub('\\n\\n *\\n+', '\\n\\n', content).rstrip('\\n')\n",
    "    if '卷' in content[:100]:\n",
    "        content = content.replace('\\n\\n', '\\n\\n\\n\\n', 1)\n",
    "    err_idx, content = try_fix_bad_para(content, debug=False)\n",
    "    with open('output/' + f.split('/')[-1], 'w', encoding='utf-8') as wf:\n",
    "        wf.write(content)"
   ]
  }
 ],
 "metadata": {
  "kernelspec": {
   "display_name": "Python 3 (ipykernel)",
   "language": "python",
   "name": "python3"
  },
  "language_info": {
   "codemirror_mode": {
    "name": "ipython",
    "version": 3
   },
   "file_extension": ".py",
   "mimetype": "text/x-python",
   "name": "python",
   "nbconvert_exporter": "python",
   "pygments_lexer": "ipython3",
   "version": "3.11.8"
  }
 },
 "nbformat": 4,
 "nbformat_minor": 5
}
